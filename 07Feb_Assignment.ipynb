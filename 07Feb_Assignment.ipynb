{
 "cells": [
  {
   "cell_type": "markdown",
   "id": "f8d19cdc-b1ca-451a-a93c-68fd8a6e8cc3",
   "metadata": {},
   "source": [
    "## Q1. You are writing code for a company. The requirement of the company is that you create a python function that will check whether the password entered by the user is correct or not. The function should take the password as input and return the string “Valid Password” if the entered password follows the below-given password guidelines else it should return “Invalid Password”.   \n",
    "\n",
    "## Note: 1. The Password should contain at least two uppercase letters and at least two lowercase letters.\n",
    "##       2. The Password should contain at least a number and three special characters.\n",
    "##       3. The length of the password should be 10 characters long."
   ]
  },
  {
   "cell_type": "code",
   "execution_count": 61,
   "id": "9c0fecd7-f3f1-4b2e-aafd-4673f405f3c2",
   "metadata": {},
   "outputs": [],
   "source": [
    "def check_password(password):\n",
    "    # Check if the password has at least 2 uppercase and 2 lowercase letters\n",
    "    uppercase_count = 0\n",
    "    lowercase_count = 0\n",
    "    for c in password:\n",
    "        if c.isupper():\n",
    "            uppercase_count += 1\n",
    "        elif c.islower():\n",
    "            lowercase_count += 1\n",
    "    if uppercase_count < 2 or lowercase_count < 2:\n",
    "        return \"Invalid Password\"\n",
    "\n",
    "    # Check if the password has at least 1 digit and 3 special characters\n",
    "    digit_count = 0\n",
    "    special_count = 0\n",
    "    for c in password:\n",
    "        if c.isdigit():\n",
    "            digit_count += 1\n",
    "        elif not c.isalnum():\n",
    "            special_count += 1\n",
    "    if digit_count == 0 or special_count < 3:\n",
    "        return \"Invalid Password\"\n",
    "\n",
    "    # Check if the length of the password is exactly 10 characters\n",
    "    if len(password) != 10:\n",
    "        return \"Invalid Password\"\n",
    "\n",
    "    # If all checks pass, return \"Valid Password\"\n",
    "    return \"Valid Password\""
   ]
  },
  {
   "cell_type": "code",
   "execution_count": 70,
   "id": "6de1f64c-73a6-4ad6-bfd3-7d1b4082a4da",
   "metadata": {},
   "outputs": [
    {
     "data": {
      "text/plain": [
       "'Valid Password'"
      ]
     },
     "execution_count": 70,
     "metadata": {},
     "output_type": "execute_result"
    }
   ],
   "source": [
    "check_password(\"CHit1!@#we\")"
   ]
  },
  {
   "cell_type": "raw",
   "id": "5d5a3e9d-921f-4c62-8078-419ced702962",
   "metadata": {},
   "source": [
    "Q2. Solve the below-given questions using at least one of the following:\n",
    "1. Lambda functioJ\n",
    "2. Filter functioJ\n",
    "3. Map function\n",
    "4. List Comprehension\n",
    "\n",
    "\n",
    "B Check if the string starts with a particular letter.\n",
    "B Check if the string is numeric.\n",
    "B Sort a list of tuples having fruit names and their quantity. [(\"mango\",99),(\"orange\",80), (\"grapes\", 1000)]\n",
    "B Find the squares of numbers from 1 to 10.\n",
    "B Find the cube root of numbers from 1 to 10.\n",
    "B Check if a given number is even.\n",
    "B Filter odd numbers from the given list.\n",
    "         [1,2,3,4,5,6,7,8,9,10]\n",
    "B Sort a list of integers into positive and negative integers lists.\n",
    "         [1,2,3,4,5,6,-1,-2,-3,-4,-5,0]"
   ]
  },
  {
   "cell_type": "code",
   "execution_count": 71,
   "id": "2c41b7cf-ac47-4d56-91ae-db0fb52ce271",
   "metadata": {},
   "outputs": [],
   "source": [
    "# Check if the string starts with a particular letter."
   ]
  },
  {
   "cell_type": "code",
   "execution_count": 81,
   "id": "88ab70b2-279e-46a8-8edd-9d9751911ed6",
   "metadata": {},
   "outputs": [
    {
     "name": "stdout",
     "output_type": "stream",
     "text": [
      "True\n"
     ]
    }
   ],
   "source": [
    "starts_with_a = lambda x: x.startswith('a')\n",
    "result = starts_with_a('apple')\n",
    "print(result)  # True"
   ]
  },
  {
   "cell_type": "code",
   "execution_count": 82,
   "id": "d88dc3dd-648b-4b68-8cb2-41741b7b68aa",
   "metadata": {},
   "outputs": [],
   "source": [
    "# Check if the string is numeric:"
   ]
  },
  {
   "cell_type": "code",
   "execution_count": 83,
   "id": "537ebe07-6f34-4e99-a6fa-2cd7e6dbf7c4",
   "metadata": {},
   "outputs": [
    {
     "name": "stdout",
     "output_type": "stream",
     "text": [
      "True\n"
     ]
    }
   ],
   "source": [
    "is_numeric = lambda x: x.isnumeric()\n",
    "result = is_numeric('123')\n",
    "print(result)  # True"
   ]
  },
  {
   "cell_type": "code",
   "execution_count": null,
   "id": "d460f300-8e84-42c2-9210-dc182cca6359",
   "metadata": {},
   "outputs": [],
   "source": [
    "# Sort a list of tuples having fruit names and their quantity. [(\"mango\",99),(\"orange\",80), (\"grapes\", 1000)]"
   ]
  },
  {
   "cell_type": "code",
   "execution_count": 84,
   "id": "9d4da2c5-45fd-4347-badd-7c5b2843b701",
   "metadata": {},
   "outputs": [
    {
     "name": "stdout",
     "output_type": "stream",
     "text": [
      "[('orange', 80), ('mango', 99), ('grapes', 1000)]\n"
     ]
    }
   ],
   "source": [
    "lst = [(\"mango\", 99), (\"orange\", 80), (\"grapes\", 1000)]\n",
    "sorted_lst = sorted(lst, key=lambda x: x[1])\n",
    "print(sorted_lst)  "
   ]
  },
  {
   "cell_type": "code",
   "execution_count": null,
   "id": "20ccfee2-d104-464a-a359-d9302553b84a",
   "metadata": {},
   "outputs": [],
   "source": [
    "# Find the squares of numbers from 1 to 10:"
   ]
  },
  {
   "cell_type": "code",
   "execution_count": 85,
   "id": "048a6802-8017-40ae-9559-f933df8d4934",
   "metadata": {},
   "outputs": [
    {
     "name": "stdout",
     "output_type": "stream",
     "text": [
      "[1, 4, 9, 16, 25, 36, 49, 64, 81, 100]\n"
     ]
    }
   ],
   "source": [
    "squares = list(map(lambda x: x**2, range(1, 11)))\n",
    "print(squares) "
   ]
  },
  {
   "cell_type": "code",
   "execution_count": 86,
   "id": "4b243e1a-569c-41a3-9eb4-18ebb1b6495e",
   "metadata": {},
   "outputs": [],
   "source": [
    "# Find the cube root of numbers from 1 to 10:"
   ]
  },
  {
   "cell_type": "code",
   "execution_count": 87,
   "id": "569a9d18-7060-453b-a379-3837d2a0da2d",
   "metadata": {},
   "outputs": [
    {
     "name": "stdout",
     "output_type": "stream",
     "text": [
      "[1.0, 1.2599210498948732, 1.4422495703074083, 1.5874010519681994, 1.7099759466766968, 1.8171205928321397, 1.912931182772389, 2.0, 2.080083823051904, 2.154434690031884]\n"
     ]
    }
   ],
   "source": [
    "from math import pow\n",
    "\n",
    "cube_roots = list(map(lambda x: pow(x, 1/3), range(1, 11)))\n",
    "print(cube_roots)  "
   ]
  },
  {
   "cell_type": "code",
   "execution_count": 88,
   "id": "e135d743-d1f0-40de-8c13-60eade3a26a6",
   "metadata": {},
   "outputs": [],
   "source": [
    "# Check if a given number is even:"
   ]
  },
  {
   "cell_type": "code",
   "execution_count": 89,
   "id": "1a13f53c-d866-4520-b03e-d63456fa4290",
   "metadata": {},
   "outputs": [
    {
     "name": "stdout",
     "output_type": "stream",
     "text": [
      "False\n"
     ]
    }
   ],
   "source": [
    "is_even = lambda x: x % 2 == 0\n",
    "result = is_even(7)\n",
    "print(result)"
   ]
  },
  {
   "cell_type": "code",
   "execution_count": 90,
   "id": "e8e5edfb-dc48-4034-b74c-a4115d7700ae",
   "metadata": {},
   "outputs": [],
   "source": [
    "# Filter odd numbers from the given list: [1,2,3,4,5,6,7,8,9,10]"
   ]
  },
  {
   "cell_type": "code",
   "execution_count": 91,
   "id": "a8ff03ef-75f6-492c-9029-0b1e56194252",
   "metadata": {},
   "outputs": [
    {
     "name": "stdout",
     "output_type": "stream",
     "text": [
      "[1, 3, 5, 7, 9]\n"
     ]
    }
   ],
   "source": [
    "nums = [1, 2, 3, 4, 5, 6, 7, 8, 9, 10]\n",
    "odd_nums = list(filter(lambda x: x % 2 != 0, nums))\n",
    "print(odd_nums) "
   ]
  },
  {
   "cell_type": "code",
   "execution_count": 92,
   "id": "cba071d1-a710-4089-a0b7-8cbed686a822",
   "metadata": {},
   "outputs": [],
   "source": [
    "# Sort a list of integers into positive and negative integers lists: [1,2,3,4,5,6,-1,-2,-3,-4,-5,0]"
   ]
  },
  {
   "cell_type": "code",
   "execution_count": 93,
   "id": "6b2c9e4c-f189-4b58-9f68-aa62b0fe2e8e",
   "metadata": {},
   "outputs": [
    {
     "name": "stdout",
     "output_type": "stream",
     "text": [
      "[1, 2, 3, 4, 5, 6]\n",
      "[-1, -2, -3, -4, -5]\n"
     ]
    }
   ],
   "source": [
    "nums = [1, 2, 3, 4, 5, 6, -1, -2, -3, -4, -5, 0]\n",
    "pos_nums = list(filter(lambda x: x > 0, nums))\n",
    "neg_nums = list(filter(lambda x: x < 0, nums))\n",
    "print(pos_nums) \n",
    "print(neg_nums)"
   ]
  },
  {
   "cell_type": "code",
   "execution_count": null,
   "id": "c183759c-53a9-48c8-9746-4458097aeb05",
   "metadata": {},
   "outputs": [],
   "source": []
  }
 ],
 "metadata": {
  "kernelspec": {
   "display_name": "Python 3 (ipykernel)",
   "language": "python",
   "name": "python3"
  },
  "language_info": {
   "codemirror_mode": {
    "name": "ipython",
    "version": 3
   },
   "file_extension": ".py",
   "mimetype": "text/x-python",
   "name": "python",
   "nbconvert_exporter": "python",
   "pygments_lexer": "ipython3",
   "version": "3.10.6"
  }
 },
 "nbformat": 4,
 "nbformat_minor": 5
}
